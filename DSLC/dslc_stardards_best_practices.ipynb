{
 "cells": [
  {
   "cell_type": "markdown",
   "metadata": {
    "toc": true
   },
   "source": [
    "<h1>Table of Contents<span class=\"tocSkip\"></span></h1>\n",
    "<div class=\"toc\"><ul class=\"toc-item\"><li><span><a href=\"#Introduction-of-Data-Science-Life-Cycle\" data-toc-modified-id=\"Introduction-of-Data-Science-Life-Cycle-1\"><span class=\"toc-item-num\">1&nbsp;&nbsp;</span>Introduction of Data Science Life Cycle</a></span><ul class=\"toc-item\"><li><span><a href=\"#Key-Components-of-Life-Cycle\" data-toc-modified-id=\"Key-Components-of-Life-Cycle-1.1\"><span class=\"toc-item-num\">1.1&nbsp;&nbsp;</span>Key Components of Life Cycle</a></span></li><li><span><a href=\"#Data-Science-Architecture\" data-toc-modified-id=\"Data-Science-Architecture-1.2\"><span class=\"toc-item-num\">1.2&nbsp;&nbsp;</span>Data Science Architecture</a></span></li><li><span><a href=\"#Data-Science-Team-Members\" data-toc-modified-id=\"Data-Science-Team-Members-1.3\"><span class=\"toc-item-num\">1.3&nbsp;&nbsp;</span>Data Science Team Members</a></span></li></ul></li><li><span><a href=\"#Business-Problem-Analysis---Principles\" data-toc-modified-id=\"Business-Problem-Analysis---Principles-2\"><span class=\"toc-item-num\">2&nbsp;&nbsp;</span>Business Problem Analysis - Principles</a></span><ul class=\"toc-item\"><li><span><a href=\"#Business-objectives\" data-toc-modified-id=\"Business-objectives-2.1\"><span class=\"toc-item-num\">2.1&nbsp;&nbsp;</span>Business objectives</a></span></li><li><span><a href=\"#Current-solution-assessments\" data-toc-modified-id=\"Current-solution-assessments-2.2\"><span class=\"toc-item-num\">2.2&nbsp;&nbsp;</span>Current solution assessments</a></span></li><li><span><a href=\"#Key-pain-points\" data-toc-modified-id=\"Key-pain-points-2.3\"><span class=\"toc-item-num\">2.3&nbsp;&nbsp;</span>Key pain points</a></span></li><li><span><a href=\"#Frame-the-problem\" data-toc-modified-id=\"Frame-the-problem-2.4\"><span class=\"toc-item-num\">2.4&nbsp;&nbsp;</span>Frame the problem</a></span></li><li><span><a href=\"#Setup-evaluation-metrics\" data-toc-modified-id=\"Setup-evaluation-metrics-2.5\"><span class=\"toc-item-num\">2.5&nbsp;&nbsp;</span>Setup evaluation metrics</a></span></li></ul></li><li><span><a href=\"#Data-Science-Experiments\" data-toc-modified-id=\"Data-Science-Experiments-3\"><span class=\"toc-item-num\">3&nbsp;&nbsp;</span>Data Science Experiments</a></span><ul class=\"toc-item\"><li><span><a href=\"#Principles\" data-toc-modified-id=\"Principles-3.1\"><span class=\"toc-item-num\">3.1&nbsp;&nbsp;</span>Principles</a></span></li><li><span><a href=\"#Best-Practices\" data-toc-modified-id=\"Best-Practices-3.2\"><span class=\"toc-item-num\">3.2&nbsp;&nbsp;</span>Best Practices</a></span></li></ul></li><li><span><a href=\"#Data-Science-Modeling-&amp;-Evaluation\" data-toc-modified-id=\"Data-Science-Modeling-&amp;-Evaluation-4\"><span class=\"toc-item-num\">4&nbsp;&nbsp;</span>Data Science Modeling &amp; Evaluation</a></span><ul class=\"toc-item\"><li><span><a href=\"#Principles\" data-toc-modified-id=\"Principles-4.1\"><span class=\"toc-item-num\">4.1&nbsp;&nbsp;</span>Principles</a></span></li><li><span><a href=\"#Best-Practices\" data-toc-modified-id=\"Best-Practices-4.2\"><span class=\"toc-item-num\">4.2&nbsp;&nbsp;</span>Best Practices</a></span></li><li><span><a href=\"#Standards\" data-toc-modified-id=\"Standards-4.3\"><span class=\"toc-item-num\">4.3&nbsp;&nbsp;</span>Standards</a></span></li></ul></li><li><span><a href=\"#Coding\" data-toc-modified-id=\"Coding-5\"><span class=\"toc-item-num\">5&nbsp;&nbsp;</span>Coding</a></span><ul class=\"toc-item\"><li><span><a href=\"#Principles---The-Zen-of-Python\" data-toc-modified-id=\"Principles---The-Zen-of-Python-5.1\"><span class=\"toc-item-num\">5.1&nbsp;&nbsp;</span>Principles - The Zen of Python</a></span></li><li><span><a href=\"#Common-Standards\" data-toc-modified-id=\"Common-Standards-5.2\"><span class=\"toc-item-num\">5.2&nbsp;&nbsp;</span>Common Standards</a></span></li><li><span><a href=\"#Best-Practices\" data-toc-modified-id=\"Best-Practices-5.3\"><span class=\"toc-item-num\">5.3&nbsp;&nbsp;</span>Best Practices</a></span></li></ul></li><li><span><a href=\"#Version-Control-with-Git\" data-toc-modified-id=\"Version-Control-with-Git-6\"><span class=\"toc-item-num\">6&nbsp;&nbsp;</span>Version Control with Git</a></span><ul class=\"toc-item\"><li><span><a href=\"#Standards\" data-toc-modified-id=\"Standards-6.1\"><span class=\"toc-item-num\">6.1&nbsp;&nbsp;</span>Standards</a></span></li><li><span><a href=\"#Best-Practices\" data-toc-modified-id=\"Best-Practices-6.2\"><span class=\"toc-item-num\">6.2&nbsp;&nbsp;</span>Best Practices</a></span></li></ul></li><li><span><a href=\"#Productionalization\" data-toc-modified-id=\"Productionalization-7\"><span class=\"toc-item-num\">7&nbsp;&nbsp;</span>Productionalization</a></span><ul class=\"toc-item\"><li><span><a href=\"#Best-Practices\" data-toc-modified-id=\"Best-Practices-7.1\"><span class=\"toc-item-num\">7.1&nbsp;&nbsp;</span>Best Practices</a></span></li></ul></li><li><span><a href=\"#Appendix\" data-toc-modified-id=\"Appendix-8\"><span class=\"toc-item-num\">8&nbsp;&nbsp;</span>Appendix</a></span><ul class=\"toc-item\"><li><span><a href=\"#Caching-Decorator-lru_cache\" data-toc-modified-id=\"Caching-Decorator-lru_cache-8.1\"><span class=\"toc-item-num\">8.1&nbsp;&nbsp;</span>Caching Decorator <code>lru_cache</code></a></span></li><li><span><a href=\"#Machine-Learning-Categories\" data-toc-modified-id=\"Machine-Learning-Categories-8.2\"><span class=\"toc-item-num\">8.2&nbsp;&nbsp;</span>Machine Learning Categories</a></span></li></ul></li></ul></div>"
   ]
  },
  {
   "attachments": {},
   "cell_type": "markdown",
   "metadata": {},
   "source": [
    "# Introduction of Data Science Life Cycle\n",
    "\n",
    "The typical lifecycle of a data science and MLops project involves jumping back and forth among various interdependent tasks using variety of programming tools. The process begins with asking an interesting business question that guides the overall workflow of the data science and MLOps project."
   ]
  },
  {
   "cell_type": "markdown",
   "metadata": {},
   "source": [
    "## Key Components of Life Cycle"
   ]
  },
  {
   "cell_type": "markdown",
   "metadata": {},
   "source": [
    "The following data science life cycle diagrams shows the basic elements when doing a data science project."
   ]
  },
  {
   "cell_type": "markdown",
   "metadata": {},
   "source": [
    "![dslc](./dslc.png)"
   ]
  },
  {
   "cell_type": "markdown",
   "metadata": {},
   "source": [
    "![Data science life cycle](./dslf.png)"
   ]
  },
  {
   "cell_type": "markdown",
   "metadata": {},
   "source": [
    "The following diagram shows how much percentage of work or the effort the data science team usually needs to put during the life cycle.\n",
    "\n",
    "![ds_effort](./ds_efforts.png)"
   ]
  },
  {
   "cell_type": "markdown",
   "metadata": {},
   "source": [
    "## Data Science Architecture"
   ]
  },
  {
   "cell_type": "markdown",
   "metadata": {},
   "source": [
    "![ds_architecture](./ds_architecture.png)"
   ]
  },
  {
   "cell_type": "markdown",
   "metadata": {},
   "source": [
    "## Data Science Team Members"
   ]
  },
  {
   "cell_type": "markdown",
   "metadata": {},
   "source": [
    "* __Product Sponsor or Owner__ \n",
    " * Involve overseeing a range of data-related functions that may include data management, data quality and business data analytics strategy. He or she may also be responsible for data analytics and business intelligence, the process of drawing valuable insights from data.\n",
    " * Skill sets required: knowledge on data science and analytics, business domain expertise, leadership and visionary abilities.\n",
    "* __Data Scientist and Data Analyst__\n",
    " * Solve complex problems and the curiosity to explore what problems are needed to be solved. A data scientist is an individual who develops machine learning models to make predictions and is well versed in algorithm development and computer science. This person will also know the complete life cycle of the model development.\n",
    " * Skill sets required: knowledge of big data platforms and tools like  Seahorse powered by Apache Spark, JupyterLab, TensorFlow and MapReduce; and programming languages that include SQL, Python, Scala and Perl; and statistical computing languages, such as R. They should also have cloud computing capabilities and knowledge of various cloud platforms like AWS, Microsoft Azure etc.\n",
    "* __Machine Learning Architect and/or Engineer__\n",
    " * Responsible for combining software engineering and machine modeling skills. This person determines which model to use and what data should be used for each model. Probability and statistics are also their forte.\n",
    " * Skill sets required: computer science and programming languages like R, Python, Scala, Java etc. They would also be required to have probability techniques, data modeling and evaluation techniques.\n",
    "* __Data Architect and/or Engineer__\n",
    " * Able to conceptualize, visualize, and build an enterprise data management framework.\n",
    " * Skill sets required: programming languages frameworks like HTML5, RESTful services, Spark, Python, Hive, Kafka, and CSS etc. They should have the required knowledge and experience to handle database technologies such as PostgreSQL, MapReduce and MongoDB and visualization platforms such as; Tableau, PowerBI etc.\n",
    "* __Business analyst__\n",
    "  * Basically handles product owner’s role but on the operational level. This implies converting business expectations into data analysis. If your core data scientist lacks domain expertise, a business analyst can bridge the gap. They are responsible for using data analytics to assess processes, determine requirements and deliver data-driven recommendations and reports to executives and stakeholders.\n",
    "  * Skill sets required: Excellent domain and industry expertise will be required. With this good communication as well as data visualization skills and knowledge of business intelligence tools will be good to have.\n",
    "* __Data Visualization Engineer__\n",
    " * Involve having a solid understanding of UI development to create custom data visualization elements for your stakeholders. Regardless of the technology, successful data visualization engineers have to understand principles of design, both graphical and more generally user-centered design.\n",
    " * Skill sets required: A data visualization engineer need to have rigorous knowledge of data visualization methods and be able to produce various charts and graphs to represent data. Additionally they must understand the fundamentals of design principles and visual display of information."
   ]
  },
  {
   "cell_type": "markdown",
   "metadata": {},
   "source": [
    "# Business Problem Analysis - Principles\n",
    "\n",
    "## Business objectives\n",
    "Remember building a model is usually not the end goal of business. One interesting and important question is: what do you do next after we develop a perfect model? Knowing the objective is important because it will determine how you frame the problem, which algorithms you will select, which performance measure you will use to evaluate your model, and\n",
    "how much effort you will spend tweaking it.\n",
    "\n",
    "## Current solution assessments\n",
    "The next question to ask is what the current solution looks like (if any). The current situation or existing solutions will often give you a reference for performance, as well as insights on how to solve the problem.\n",
    "\n",
    "## Key pain points\n",
    "You also need to understand what the key pain points that the business is currently facing. This will help you to better understand why the business establish this data science project and focus on the main areas when designing and developing your solutions. This step also helps you to ensure your solutions can provide the best user experience and meet their expectations.\n",
    "\n",
    "## Frame the problem\n",
    "With all the information, you are now ready to start designing your system. First, you need to frame the problem: is it supervised, unsupervised, or Reinforcement Learning? Is it a classification task, a regression task, or something else? Should you use batch learning or on-line learning techniques?\n",
    "\n",
    "## Setup evaluation metrics\n",
    "Your next step is to select a performance measure. You should consider a __single-number evaluation metric__.\n",
    "\n",
    "* Having a single-number evaluation metric such as\n",
    "accuracy allows you to sort all your models according to their performance on this metric,\n",
    "and quickly decide what is working best.\n",
    "\n",
    "* Having a single-number evaluation metric speeds up your ability to make a decision when\n",
    "you are selecting among a large number of classifiers. It gives a clear preference ranking\n",
    "among all of them, and therefore a clear direction for progress."
   ]
  },
  {
   "cell_type": "markdown",
   "metadata": {},
   "source": [
    "# Data Science Experiments\n",
    "\n",
    "Experiments are designed to identify causal relationships between variables and this is a really important concept in many fields and particularly relevant for data scientists today."
   ]
  },
  {
   "cell_type": "markdown",
   "metadata": {},
   "source": [
    "## Principles"
   ]
  },
  {
   "cell_type": "markdown",
   "metadata": {},
   "source": [
    "* __Understand the Data Science Hierarchy of Needs__ (see the diagram below)."
   ]
  },
  {
   "cell_type": "markdown",
   "metadata": {},
   "source": [
    "![data science hierarchy needs](./ds_hierarchy_needs.png)"
   ]
  },
  {
   "cell_type": "markdown",
   "metadata": {},
   "source": [
    "* __Pick projects that add the most value for the business__\n",
    "\n",
    "Calculating the size of the opportunity before building a machine learning model can help determine a project’s potential impact on the business. This potential impact can then be weighed against the estimated time spent on the project to gauge project convexity.\n",
    "\n",
    "Generic formula to calculate size of business opportunity:\n",
    "\n",
    "```Estimated project impact = number of customers affected * target size of effect ```"
   ]
  },
  {
   "cell_type": "markdown",
   "metadata": {},
   "source": [
    "* __Iterate fast__\n",
    "\n",
    "Quickly setup a baseline approach and improve it with advanced technologies if needed and move on with this iteratively. It is sometimes the simplest technologies that are ignored. In practice there is no premium for complexification; in the corporate world there is. Looking at the latest technologies used in AI research invites complexity, where in practice implementing simple business rules after data exploration may be all it takes to extract value from data."
   ]
  },
  {
   "cell_type": "markdown",
   "metadata": {
    "ExecuteTime": {
     "end_time": "2020-03-05T18:55:41.312827Z",
     "start_time": "2020-03-05T18:55:41.301635Z"
    }
   },
   "source": [
    "* __Data is no magic bullet__\n",
    "\n",
    "Understanding the limitations of data and how machine learning algorithms work is important to know which models are worth building. The effectiveness of machine learning algorithms is only as good the data used, and many times, the data collected does not fully represent reality, especially when it comes to human behavior."
   ]
  },
  {
   "cell_type": "markdown",
   "metadata": {},
   "source": [
    "* __Models must be carefully evaluated by the business before moving to implementation stage__\n",
    "\n",
    "Business stakeholders should carefully evaluate the output from machine learning models before deployment.\n",
    "__Apply business rules as a safe-guard__. \n",
    "Having an extra layer of business rules is imperative for quality assurance, as well as help prevent a faulty machine learning model that compromises customer experience from being launched. Deciding what business rules to implement stem from sanity checks conducted by the business."
   ]
  },
  {
   "cell_type": "markdown",
   "metadata": {},
   "source": [
    "## Best Practices"
   ]
  },
  {
   "cell_type": "markdown",
   "metadata": {},
   "source": [
    "* __Use Jupyter Notebook template__ \n",
    "\n",
    "[notebook template](./template.ipynb)"
   ]
  },
  {
   "cell_type": "markdown",
   "metadata": {},
   "source": [
    "* __Structure your notebooks__\n",
    "    * Give your notebook a title (H1 header) and a meaningful preamble to describe its purpose and contents.\n",
    "    * Use headings and documentation in Markdown cells to structure your notebook and explain your workflow steps. Remember: You’re not only doing this for your colleagues or your successor, but also for your future self.\n",
    "    * The toc2 extension can automatically create heading numbers and a Table of Contents, both in a sidebar (optionally a floating window) and in a markdown cell. The highlighting indicates your current position in the document — this will help you keep oriented in long notebooks.\n",
    "    * Use template of notebooks to have a default structure and common imports."
   ]
  },
  {
   "cell_type": "markdown",
   "metadata": {},
   "source": [
    "* __Use ```autoreload``` IPython extension to help reloading modules before executing new code__"
   ]
  },
  {
   "cell_type": "code",
   "execution_count": 28,
   "metadata": {
    "ExecuteTime": {
     "end_time": "2020-03-05T17:31:36.671991Z",
     "start_time": "2020-03-05T17:31:36.316449Z"
    }
   },
   "outputs": [],
   "source": [
    "%load_ext autoreload\n",
    "%autoreload"
   ]
  },
  {
   "cell_type": "markdown",
   "metadata": {},
   "source": [
    "* __Use classic notebooks extensions, including__"
   ]
  },
  {
   "cell_type": "markdown",
   "metadata": {},
   "source": [
    " 1. __code_prettify__ backed by autopep8 is great for reformatting code in notebook code cells based on PEP 8 Style Guide\n",
    " 1. __spellchecker__ highlights incorrectly spelled words\n",
    " 1. __Table of Contents (2)__ enables to collect all running headers and display them in a floating window, as a sidebar or with a navigation menu\n",
    " 1. __AutoSaveTime__ Optionally set the notebook autosave interval, and/or add a selector to the toolbar to set it\n",
    " 1. __ExecuteTime__ Display when each cell has been executed and how long it took\n",
    " 1. __Autopep8__ Use kernel-specific code to reformat/prettify the contents of code cells"
   ]
  },
  {
   "cell_type": "markdown",
   "metadata": {},
   "source": [
    "* __Enable multiple displaying and automated formatting__"
   ]
  },
  {
   "cell_type": "code",
   "execution_count": 33,
   "metadata": {
    "ExecuteTime": {
     "end_time": "2020-03-05T17:56:23.459517Z",
     "start_time": "2020-03-05T17:56:23.437504Z"
    }
   },
   "outputs": [
    {
     "data": {
      "text/plain": [
       "array([[5.1, 3.5, 1.4, 0.2],\n",
       "       [4.9, 3. , 1.4, 0.2],\n",
       "       [4.7, 3.2, 1.3, 0.2],\n",
       "       [4.6, 3.1, 1.5, 0.2],\n",
       "       [5. , 3.6, 1.4, 0.2],\n",
       "       [5.4, 3.9, 1.7, 0.4],\n",
       "       [4.6, 3.4, 1.4, 0.3],\n",
       "       [5. , 3.4, 1.5, 0.2],\n",
       "       [4.4, 2.9, 1.4, 0.2],\n",
       "       [4.9, 3.1, 1.5, 0.1],\n",
       "       [5.4, 3.7, 1.5, 0.2],\n",
       "       [4.8, 3.4, 1.6, 0.2],\n",
       "       [4.8, 3. , 1.4, 0.1],\n",
       "       [4.3, 3. , 1.1, 0.1],\n",
       "       [5.8, 4. , 1.2, 0.2],\n",
       "       [5.7, 4.4, 1.5, 0.4],\n",
       "       [5.4, 3.9, 1.3, 0.4],\n",
       "       [5.1, 3.5, 1.4, 0.3],\n",
       "       [5.7, 3.8, 1.7, 0.3],\n",
       "       [5.1, 3.8, 1.5, 0.3],\n",
       "       [5.4, 3.4, 1.7, 0.2],\n",
       "       [5.1, 3.7, 1.5, 0.4],\n",
       "       [4.6, 3.6, 1. , 0.2],\n",
       "       [5.1, 3.3, 1.7, 0.5],\n",
       "       [4.8, 3.4, 1.9, 0.2],\n",
       "       [5. , 3. , 1.6, 0.2],\n",
       "       [5. , 3.4, 1.6, 0.4],\n",
       "       [5.2, 3.5, 1.5, 0.2],\n",
       "       [5.2, 3.4, 1.4, 0.2],\n",
       "       [4.7, 3.2, 1.6, 0.2],\n",
       "       [4.8, 3.1, 1.6, 0.2],\n",
       "       [5.4, 3.4, 1.5, 0.4],\n",
       "       [5.2, 4.1, 1.5, 0.1],\n",
       "       [5.5, 4.2, 1.4, 0.2],\n",
       "       [4.9, 3.1, 1.5, 0.2],\n",
       "       [5. , 3.2, 1.2, 0.2],\n",
       "       [5.5, 3.5, 1.3, 0.2],\n",
       "       [4.9, 3.6, 1.4, 0.1],\n",
       "       [4.4, 3. , 1.3, 0.2],\n",
       "       [5.1, 3.4, 1.5, 0.2],\n",
       "       [5. , 3.5, 1.3, 0.3],\n",
       "       [4.5, 2.3, 1.3, 0.3],\n",
       "       [4.4, 3.2, 1.3, 0.2],\n",
       "       [5. , 3.5, 1.6, 0.6],\n",
       "       [5.1, 3.8, 1.9, 0.4],\n",
       "       [4.8, 3. , 1.4, 0.3],\n",
       "       [5.1, 3.8, 1.6, 0.2],\n",
       "       [4.6, 3.2, 1.4, 0.2],\n",
       "       [5.3, 3.7, 1.5, 0.2],\n",
       "       [5. , 3.3, 1.4, 0.2],\n",
       "       [7. , 3.2, 4.7, 1.4],\n",
       "       [6.4, 3.2, 4.5, 1.5],\n",
       "       [6.9, 3.1, 4.9, 1.5],\n",
       "       [5.5, 2.3, 4. , 1.3],\n",
       "       [6.5, 2.8, 4.6, 1.5],\n",
       "       [5.7, 2.8, 4.5, 1.3],\n",
       "       [6.3, 3.3, 4.7, 1.6],\n",
       "       [4.9, 2.4, 3.3, 1. ],\n",
       "       [6.6, 2.9, 4.6, 1.3],\n",
       "       [5.2, 2.7, 3.9, 1.4],\n",
       "       [5. , 2. , 3.5, 1. ],\n",
       "       [5.9, 3. , 4.2, 1.5],\n",
       "       [6. , 2.2, 4. , 1. ],\n",
       "       [6.1, 2.9, 4.7, 1.4],\n",
       "       [5.6, 2.9, 3.6, 1.3],\n",
       "       [6.7, 3.1, 4.4, 1.4],\n",
       "       [5.6, 3. , 4.5, 1.5],\n",
       "       [5.8, 2.7, 4.1, 1. ],\n",
       "       [6.2, 2.2, 4.5, 1.5],\n",
       "       [5.6, 2.5, 3.9, 1.1],\n",
       "       [5.9, 3.2, 4.8, 1.8],\n",
       "       [6.1, 2.8, 4. , 1.3],\n",
       "       [6.3, 2.5, 4.9, 1.5],\n",
       "       [6.1, 2.8, 4.7, 1.2],\n",
       "       [6.4, 2.9, 4.3, 1.3],\n",
       "       [6.6, 3. , 4.4, 1.4],\n",
       "       [6.8, 2.8, 4.8, 1.4],\n",
       "       [6.7, 3. , 5. , 1.7],\n",
       "       [6. , 2.9, 4.5, 1.5],\n",
       "       [5.7, 2.6, 3.5, 1. ],\n",
       "       [5.5, 2.4, 3.8, 1.1],\n",
       "       [5.5, 2.4, 3.7, 1. ],\n",
       "       [5.8, 2.7, 3.9, 1.2],\n",
       "       [6. , 2.7, 5.1, 1.6],\n",
       "       [5.4, 3. , 4.5, 1.5],\n",
       "       [6. , 3.4, 4.5, 1.6],\n",
       "       [6.7, 3.1, 4.7, 1.5],\n",
       "       [6.3, 2.3, 4.4, 1.3],\n",
       "       [5.6, 3. , 4.1, 1.3],\n",
       "       [5.5, 2.5, 4. , 1.3],\n",
       "       [5.5, 2.6, 4.4, 1.2],\n",
       "       [6.1, 3. , 4.6, 1.4],\n",
       "       [5.8, 2.6, 4. , 1.2],\n",
       "       [5. , 2.3, 3.3, 1. ],\n",
       "       [5.6, 2.7, 4.2, 1.3],\n",
       "       [5.7, 3. , 4.2, 1.2],\n",
       "       [5.7, 2.9, 4.2, 1.3],\n",
       "       [6.2, 2.9, 4.3, 1.3],\n",
       "       [5.1, 2.5, 3. , 1.1],\n",
       "       [5.7, 2.8, 4.1, 1.3],\n",
       "       [6.3, 3.3, 6. , 2.5],\n",
       "       [5.8, 2.7, 5.1, 1.9],\n",
       "       [7.1, 3. , 5.9, 2.1],\n",
       "       [6.3, 2.9, 5.6, 1.8],\n",
       "       [6.5, 3. , 5.8, 2.2],\n",
       "       [7.6, 3. , 6.6, 2.1],\n",
       "       [4.9, 2.5, 4.5, 1.7],\n",
       "       [7.3, 2.9, 6.3, 1.8],\n",
       "       [6.7, 2.5, 5.8, 1.8],\n",
       "       [7.2, 3.6, 6.1, 2.5],\n",
       "       [6.5, 3.2, 5.1, 2. ],\n",
       "       [6.4, 2.7, 5.3, 1.9],\n",
       "       [6.8, 3. , 5.5, 2.1],\n",
       "       [5.7, 2.5, 5. , 2. ],\n",
       "       [5.8, 2.8, 5.1, 2.4],\n",
       "       [6.4, 3.2, 5.3, 2.3],\n",
       "       [6.5, 3. , 5.5, 1.8],\n",
       "       [7.7, 3.8, 6.7, 2.2],\n",
       "       [7.7, 2.6, 6.9, 2.3],\n",
       "       [6. , 2.2, 5. , 1.5],\n",
       "       [6.9, 3.2, 5.7, 2.3],\n",
       "       [5.6, 2.8, 4.9, 2. ],\n",
       "       [7.7, 2.8, 6.7, 2. ],\n",
       "       [6.3, 2.7, 4.9, 1.8],\n",
       "       [6.7, 3.3, 5.7, 2.1],\n",
       "       [7.2, 3.2, 6. , 1.8],\n",
       "       [6.2, 2.8, 4.8, 1.8],\n",
       "       [6.1, 3. , 4.9, 1.8],\n",
       "       [6.4, 2.8, 5.6, 2.1],\n",
       "       [7.2, 3. , 5.8, 1.6],\n",
       "       [7.4, 2.8, 6.1, 1.9],\n",
       "       [7.9, 3.8, 6.4, 2. ],\n",
       "       [6.4, 2.8, 5.6, 2.2],\n",
       "       [6.3, 2.8, 5.1, 1.5],\n",
       "       [6.1, 2.6, 5.6, 1.4],\n",
       "       [7.7, 3. , 6.1, 2.3],\n",
       "       [6.3, 3.4, 5.6, 2.4],\n",
       "       [6.4, 3.1, 5.5, 1.8],\n",
       "       [6. , 3. , 4.8, 1.8],\n",
       "       [6.9, 3.1, 5.4, 2.1],\n",
       "       [6.7, 3.1, 5.6, 2.4],\n",
       "       [6.9, 3.1, 5.1, 2.3],\n",
       "       [5.8, 2.7, 5.1, 1.9],\n",
       "       [6.8, 3.2, 5.9, 2.3],\n",
       "       [6.7, 3.3, 5.7, 2.5],\n",
       "       [6.7, 3. , 5.2, 2.3],\n",
       "       [6.3, 2.5, 5. , 1.9],\n",
       "       [6.5, 3. , 5.2, 2. ],\n",
       "       [6.2, 3.4, 5.4, 2.3],\n",
       "       [5.9, 3. , 5.1, 1.8]])"
      ]
     },
     "execution_count": 33,
     "metadata": {},
     "output_type": "execute_result"
    },
    {
     "data": {
      "text/plain": [
       "array([0, 0, 0, 0, 0, 0, 0, 0, 0, 0, 0, 0, 0, 0, 0, 0, 0, 0, 0, 0, 0, 0,\n",
       "       0, 0, 0, 0, 0, 0, 0, 0, 0, 0, 0, 0, 0, 0, 0, 0, 0, 0, 0, 0, 0, 0,\n",
       "       0, 0, 0, 0, 0, 0, 1, 1, 1, 1, 1, 1, 1, 1, 1, 1, 1, 1, 1, 1, 1, 1,\n",
       "       1, 1, 1, 1, 1, 1, 1, 1, 1, 1, 1, 1, 1, 1, 1, 1, 1, 1, 1, 1, 1, 1,\n",
       "       1, 1, 1, 1, 1, 1, 1, 1, 1, 1, 1, 1, 2, 2, 2, 2, 2, 2, 2, 2, 2, 2,\n",
       "       2, 2, 2, 2, 2, 2, 2, 2, 2, 2, 2, 2, 2, 2, 2, 2, 2, 2, 2, 2, 2, 2,\n",
       "       2, 2, 2, 2, 2, 2, 2, 2, 2, 2, 2, 2, 2, 2, 2, 2, 2, 2])"
      ]
     },
     "execution_count": 33,
     "metadata": {},
     "output_type": "execute_result"
    }
   ],
   "source": [
    "from IPython.core.interactiveshell import InteractiveShell\n",
    "InteractiveShell.ast_node_interactivity = \"all\"\n",
    "\n",
    "from sklearn import datasets\n",
    "iris = datasets.load_iris()\n",
    "iris.data\n",
    "iris.target"
   ]
  },
  {
   "cell_type": "markdown",
   "metadata": {},
   "source": [
    "# Data Science Modeling & Evaluation"
   ]
  },
  {
   "cell_type": "markdown",
   "metadata": {},
   "source": [
    "## Principles"
   ]
  },
  {
   "cell_type": "markdown",
   "metadata": {},
   "source": [
    "* __Build models that answer the right questions__.\n",
    "\n",
    "Communicating with ends users, understanding business rules that are already in place, looking at existing data and thinking of how to define the “ground truth” for the model to be trained on such that it is meaningful for end users, understanding the limitations of the proposed model, and stress testing the predicted output of the model with business users."
   ]
  },
  {
   "cell_type": "markdown",
   "metadata": {},
   "source": [
    "![decision impact](./decision_impact.png)"
   ]
  },
  {
   "cell_type": "markdown",
   "metadata": {},
   "source": [
    "* __Analyze the best models and their errors__ After model cross-validation and fine-tune, you should analyze the errors and choose the best model for final coding or implementation."
   ]
  },
  {
   "cell_type": "markdown",
   "metadata": {},
   "source": [
    "## Best Practices"
   ]
  },
  {
   "cell_type": "markdown",
   "metadata": {},
   "source": [
    "* __Use machine learning model selection guidances or cheat sheets__\n",
    "\n",
    "The following diagram shows some tips for selecting proper machine learning algorithms."
   ]
  },
  {
   "cell_type": "markdown",
   "metadata": {},
   "source": [
    "![tips](./tips.png)"
   ]
  },
  {
   "cell_type": "markdown",
   "metadata": {},
   "source": [
    "* __Be as conservative as you can when choosing modeling technology__\n",
    "\n",
    "You would like to use the latest framework that has half a star on a Github\n",
    "repository that’s been published 3 years ago and never touched ever since (sorry, no links). Don’t do that, please!!!\n",
    "\n",
    "You’re going to have a lot of uncertainty to deal with, so please avoid skating on thin ice."
   ]
  },
  {
   "cell_type": "markdown",
   "metadata": {},
   "source": [
    "* __Better evaluation using cross-validation__ \n",
    "A great way to evaluate a model is to use cross-validation functionality (e.g. scikit-learn's k-fold cross-validation feature). "
   ]
  },
  {
   "cell_type": "markdown",
   "metadata": {},
   "source": [
    "* __Fine-tune model__\n",
    "To find a great combination of hyperparameter values, you can use automated hyperparameter search methods.\n",
    " * __GridSearchCV__\n",
    "One option is to get Scikit-Learn’s ```GridSearchCV``` to search for you. All you need to do is tell it which hyperparameters you want it to experiment with and what values to try out, and it will use cross-validation to evaluate all the possible combinations of hyperparameter values\n",
    " * __Randomized Search__\n",
    "The grid search approach is fine when you are exploring relatively few combinations, like in the\n",
    "previous example, but when the hyperparameter search space is large, it is often preferable to use\n",
    "```RandomizedSearchCV``` instead"
   ]
  },
  {
   "cell_type": "markdown",
   "metadata": {},
   "source": [
    "## Standards"
   ]
  },
  {
   "cell_type": "markdown",
   "metadata": {},
   "source": [
    "* __Build Pipelines__ Data science pipelines are sequences of processing and analysis steps applied to data for a specific purpose. They're useful in production projects, and they can also be useful if one expects to encounter the same type of business question in the future, so as to save on design time and coding. The following shows some common components for building pipelines."
   ]
  },
  {
   "cell_type": "markdown",
   "metadata": {},
   "source": [
    "![workflow](./dataengineeringpng.png)"
   ]
  },
  {
   "cell_type": "markdown",
   "metadata": {},
   "source": [
    "Pipelines are very\n",
    "common in Machine Learning systems, since there is a lot of data to manipulate and many\n",
    "data transformations to apply."
   ]
  },
  {
   "cell_type": "markdown",
   "metadata": {},
   "source": [
    "* __Model persistence__ After model is completely trained and pipeline is built, we need to save the trained models or the whole pipeline in a file and restore them in order to reuse it to compare the model with other models, to test the model on a new data. The saving of data is called Serializaion, while restoring the data is called Deserialization. In Python, we generally store the binary representation of the model, using pickle or joblib. "
   ]
  },
  {
   "cell_type": "markdown",
   "metadata": {},
   "source": [
    "* __Model evaluation__ Model evaluation aims to estimate the generalization accuracy of a model on future (unseen/out-of-sample) data. Methods for evaluating a model's performance are divided into 2 categories: namely, holdout and Cross-validation. Both methods use a test set (i.e data not seen by the model) to evaluate model performance. The following diagram shows the standard work flow of model evaluation.\n",
    "\n",
    "![model_evaluation](./model_evaluation.png)"
   ]
  },
  {
   "cell_type": "markdown",
   "metadata": {},
   "source": [
    "# Coding"
   ]
  },
  {
   "cell_type": "markdown",
   "metadata": {},
   "source": [
    "## Principles - The Zen of Python"
   ]
  },
  {
   "cell_type": "code",
   "execution_count": 2,
   "metadata": {
    "ExecuteTime": {
     "end_time": "2020-03-05T16:06:21.930915Z",
     "start_time": "2020-03-05T16:06:21.909910Z"
    }
   },
   "outputs": [
    {
     "name": "stdout",
     "output_type": "stream",
     "text": [
      "The Zen of Python, by Tim Peters\n",
      "\n",
      "Beautiful is better than ugly.\n",
      "Explicit is better than implicit.\n",
      "Simple is better than complex.\n",
      "Complex is better than complicated.\n",
      "Flat is better than nested.\n",
      "Sparse is better than dense.\n",
      "Readability counts.\n",
      "Special cases aren't special enough to break the rules.\n",
      "Although practicality beats purity.\n",
      "Errors should never pass silently.\n",
      "Unless explicitly silenced.\n",
      "In the face of ambiguity, refuse the temptation to guess.\n",
      "There should be one-- and preferably only one --obvious way to do it.\n",
      "Although that way may not be obvious at first unless you're Dutch.\n",
      "Now is better than never.\n",
      "Although never is often better than *right* now.\n",
      "If the implementation is hard to explain, it's a bad idea.\n",
      "If the implementation is easy to explain, it may be a good idea.\n",
      "Namespaces are one honking great idea -- let's do more of those!\n"
     ]
    }
   ],
   "source": [
    "import this"
   ]
  },
  {
   "cell_type": "markdown",
   "metadata": {},
   "source": [
    "## Common Standards"
   ]
  },
  {
   "cell_type": "markdown",
   "metadata": {},
   "source": [
    "* __Don't use Python 2 , please (it will go away soon)__"
   ]
  },
  {
   "cell_type": "markdown",
   "metadata": {},
   "source": [
    "* __General naming conventions__"
   ]
  },
  {
   "cell_type": "markdown",
   "metadata": {},
   "source": [
    "| Identifier\t| Convention | Example |\n",
    "|----------|-------------|-------------|\n",
    "| Module\t| lowercase | ```hotskills.py``` |\n",
    "| Class\t| CapWords | ```class HotSkills:``` |\n",
    "| Functions | lowercase | ```def search(): return ``` |\n",
    "| Methods | lowercase | ```def sort(): pass ``` |\n",
    "| Type variables | CapWords | ```TalentSkills = [] ``` |\n",
    "| Constants\t| UPPERCASE | ```MAX_SKILLS = 10 ``` |\n",
    "| Package | lowercase | ```hotskills.pkl``` |\n",
    "| Special name | underscore | ```_var1 = 123``` |\n",
    "| Internal interfaces | double underscore | ```__all__ = ['a', 'b']``` |"
   ]
  },
  {
   "cell_type": "markdown",
   "metadata": {},
   "source": [
    "* __Imports should be on the top of the module and separate lines and clear__"
   ]
  },
  {
   "cell_type": "code",
   "execution_count": 4,
   "metadata": {
    "ExecuteTime": {
     "end_time": "2020-03-05T16:12:02.537919Z",
     "start_time": "2020-03-05T16:12:02.533918Z"
    }
   },
   "outputs": [],
   "source": [
    "# The following coding styles are good.\n",
    "import os\n",
    "import sys\n",
    "from subprocess import Popen, PIPE\n",
    "\n",
    "# The following coding styles should be avoid\n",
    "import os, sys\n",
    "from subprocess import *"
   ]
  },
  {
   "cell_type": "markdown",
   "metadata": {},
   "source": [
    "* __Comments and documentation strings__"
   ]
  },
  {
   "cell_type": "code",
   "execution_count": 5,
   "metadata": {
    "ExecuteTime": {
     "end_time": "2020-03-05T16:23:01.093590Z",
     "start_time": "2020-03-05T16:23:01.086589Z"
    }
   },
   "outputs": [],
   "source": [
    "\"\"\"\n",
    "This is the example module.\n",
    "\n",
    "This module does stuff.\n",
    "\"\"\"\n",
    "\n",
    "import os\n",
    "import sys\n",
    "\n",
    "# define an example function\n",
    "def example_function():\n",
    "    '''\n",
    "    This is an example of function,\n",
    "    which is doing nothing rather than\n",
    "    providing a docString\n",
    "    '''\n",
    "    pass"
   ]
  },
  {
   "cell_type": "markdown",
   "metadata": {},
   "source": [
    "* __Use Python Dunder Names to describe module__"
   ]
  },
  {
   "cell_type": "code",
   "execution_count": 27,
   "metadata": {
    "ExecuteTime": {
     "end_time": "2020-03-05T16:39:19.451675Z",
     "start_time": "2020-03-05T16:39:19.445620Z"
    }
   },
   "outputs": [],
   "source": [
    "\"\"\"\n",
    "This is the example module.\n",
    "This module does stuff.\n",
    "\"\"\"\n",
    "# this line of code is to ensure the higher version of print_function to be used in this module\n",
    "from __future__ import print_function\n",
    "\n",
    "# this __all__ describes what functions or objects can be imported\n",
    "__all__ = ['searching', 'sorting']\n",
    "# this __version__ describes what is current version of this module\n",
    "__version__ = '0.1'\n",
    "# this __author__ describes who is the author of this module\n",
    "__author__ = 'Ivan Chen'\n",
    "\n",
    "import os\n",
    "import sys\n",
    "\n",
    "def searching():\n",
    "    pass\n",
    "\n",
    "def sorting():\n",
    "    pass"
   ]
  },
  {
   "cell_type": "markdown",
   "metadata": {},
   "source": [
    "* __Create Class in a Module for model's APIs__\n",
    "\n",
    "For details about how to create Python class, you can look at this quick introduction article on [Medium.com](https://medium.com/swlh/understanding-python-class-42ee41f8c220)."
   ]
  },
  {
   "cell_type": "code",
   "execution_count": 21,
   "metadata": {
    "ExecuteTime": {
     "end_time": "2020-03-04T20:10:45.125119Z",
     "start_time": "2020-03-04T20:10:45.103117Z"
    }
   },
   "outputs": [
    {
     "name": "stdout",
     "output_type": "stream",
     "text": [
      "['bash', 'SQL']\n",
      "2\n"
     ]
    }
   ],
   "source": [
    "# Define a module for a data science model\n",
    "class HotSkills:\n",
    "    # define initial function\n",
    "    def __init__(self, hotskills=[], trainingdataset=None):\n",
    "        self.hotskills = hotskills\n",
    "        self.dataset = trainingdataset\n",
    "    # define functions to access information in object\n",
    "    def get_hotskills(self):\n",
    "        return self.hotskills\n",
    "    def hotskill_count(self):\n",
    "        return len(self.hotskills)\n",
    "    \n",
    "    # define training or data processing functions\n",
    "    def training(self, trainingdataset=None):\n",
    "        if trainingdataset:\n",
    "            # start getting dataset and then training the model\n",
    "            # set hot skills after training\n",
    "            self.hotskills = []\n",
    "            print(\"Training processes are completed successfully\")\n",
    "            return self.hotskills\n",
    "        else:\n",
    "            print(\"No training data set was defined!\")\n",
    "            return []\n",
    "    \n",
    "    # define prediction function if needed\n",
    "    def predict(self, newdataset=None):\n",
    "        if newdataset:\n",
    "            # start predicting with the input new data set\n",
    "            hotskills = []\n",
    "            print(\"Prediction processes are completed successfully\")\n",
    "            return hotskills\n",
    "        else:\n",
    "            print(\"No Prediction data set was defined!\")\n",
    "            return []\n",
    "\n",
    "example = HotSkills([\"bash\",\"SQL\"])\n",
    "print(example.get_hotskills())\n",
    "print(example.hotskill_count())"
   ]
  },
  {
   "cell_type": "markdown",
   "metadata": {},
   "source": [
    "* __Use decorator to define object's attributes__"
   ]
  },
  {
   "cell_type": "code",
   "execution_count": 15,
   "metadata": {
    "ExecuteTime": {
     "end_time": "2020-03-04T19:53:52.088806Z",
     "start_time": "2020-03-04T19:53:52.072803Z"
    }
   },
   "outputs": [
    {
     "name": "stdout",
     "output_type": "stream",
     "text": [
      "2\n"
     ]
    }
   ],
   "source": [
    "import functools\n",
    "\n",
    "class HotSkills:\n",
    "    def __init__(self, hotskills=[], trainingdataset=None):\n",
    "        self.hotskills = hotskills\n",
    "        self.dataset = trainingdataset\n",
    "    def get_hotskills(self):\n",
    "        return self.hotskills\n",
    "    \n",
    "    # set this function to have attribute behavior\n",
    "    @property\n",
    "    def hotskill_count(self):\n",
    "        return len(self.hotskills)\n",
    "\n",
    "def main():\n",
    "    # this function can be setup as standalone running codes\n",
    "    # or as unit testing\n",
    "    example = HotSkills([\"bash\",\"SQL\"])\n",
    "    print(example.hotskill_count\n",
    "\n",
    "if __name__ == \"__main__\":\n",
    "    main()"
   ]
  },
  {
   "cell_type": "markdown",
   "metadata": {},
   "source": [
    "* __Use__ ```__str__``` __function to define the model class description__"
   ]
  },
  {
   "cell_type": "code",
   "execution_count": 33,
   "metadata": {
    "ExecuteTime": {
     "end_time": "2020-03-04T22:13:56.106857Z",
     "start_time": "2020-03-04T22:13:56.095856Z"
    }
   },
   "outputs": [
    {
     "name": "stdout",
     "output_type": "stream",
     "text": [
      "This object is to list all the hot skills discovered from demand data set.\n"
     ]
    }
   ],
   "source": [
    "class HotSkills:\n",
    "    def __init__(self, hotskills=[], trainingdataset=None):\n",
    "        self.hotskills = hotskills\n",
    "        self.dataset = trainingdataset\n",
    "    # create __str__ function to provide some description\n",
    "    def __str__(self):\n",
    "        return \"This object is to list all the hot skills discovered from demand data set.\"\n",
    "        \n",
    "example = HotSkills()\n",
    "\n",
    "print(example)"
   ]
  },
  {
   "cell_type": "markdown",
   "metadata": {},
   "source": [
    "## Best Practices"
   ]
  },
  {
   "cell_type": "markdown",
   "metadata": {},
   "source": [
    "* __Control module behavior for directly running and module import__"
   ]
  },
  {
   "cell_type": "code",
   "execution_count": 7,
   "metadata": {
    "ExecuteTime": {
     "end_time": "2020-03-04T19:46:47.249136Z",
     "start_time": "2020-03-04T19:46:47.235131Z"
    }
   },
   "outputs": [
    {
     "name": "stdout",
     "output_type": "stream",
     "text": [
      "['bash', 'SQL']\n"
     ]
    }
   ],
   "source": [
    "class HotSkills:\n",
    "    def __init__(self, hotskills=[], trainingdataset=None):\n",
    "        self.hotskills = hotskills\n",
    "        self.dataset = trainingdataset\n",
    "    def get_hotskills(self):\n",
    "        return self.hotskills\n",
    "\n",
    "def main():\n",
    "    # this function can be setup as standalone running codes\n",
    "    # or as unit testing\n",
    "    example = HotSkills([\"bash\",\"SQL\"])\n",
    "    print(example.get_hotskills())\n",
    "\n",
    "# setup a control when directly running this module from python rather than import it to other module\n",
    "if __name__ == \"__main__\":\n",
    "    main()"
   ]
  },
  {
   "cell_type": "markdown",
   "metadata": {},
   "source": [
    "* __Use cache for faster value access__"
   ]
  },
  {
   "cell_type": "code",
   "execution_count": 18,
   "metadata": {
    "ExecuteTime": {
     "end_time": "2020-03-04T19:57:44.005007Z",
     "start_time": "2020-03-04T19:57:43.988000Z"
    }
   },
   "outputs": [
    {
     "name": "stdout",
     "output_type": "stream",
     "text": [
      "2\n",
      "2\n"
     ]
    }
   ],
   "source": [
    "# Define a module for a data science model\n",
    "import functools\n",
    "\n",
    "class HotSkills:\n",
    "    def __init__(self, hotskills=[], trainingdataset=None):\n",
    "        self.hotskills = hotskills\n",
    "        self.dataset = trainingdataset\n",
    "    def get_hotskills(self):\n",
    "        return self.hotskills\n",
    "\n",
    "    @property\n",
    "    # set this attribute value to be cached\n",
    "    @functools.lru_cache()\n",
    "    def hotskill_count(self):\n",
    "        return len(self.hotskills)\n",
    "\n",
    "def main():\n",
    "    example = HotSkills([\"bash\",\"SQL\"])\n",
    "    print(example.hotskill_count)\n",
    "    # for this time, the value of hotskill_count is from cached memory rather than calling len function\n",
    "    print(example.hotskill_count)\n",
    "\n",
    "# setup a control when directly running this module from python rather than import it to other module\n",
    "if __name__ == \"__main__\":\n",
    "    main()"
   ]
  },
  {
   "cell_type": "markdown",
   "metadata": {},
   "source": [
    "* __Use Underscore and F-string to make a large number to be human readable and check-able__"
   ]
  },
  {
   "cell_type": "code",
   "execution_count": 23,
   "metadata": {
    "ExecuteTime": {
     "end_time": "2020-03-04T20:18:07.231125Z",
     "start_time": "2020-03-04T20:18:07.223143Z"
    }
   },
   "outputs": [
    {
     "name": "stdout",
     "output_type": "stream",
     "text": [
      "10,100,000,000\n"
     ]
    }
   ],
   "source": [
    "num1 = 10_000_000_000\n",
    "num2 = 100_000_000\n",
    "\n",
    "print(f'{num1+num2:,}')"
   ]
  },
  {
   "cell_type": "markdown",
   "metadata": {},
   "source": [
    "* __Use__ ```zip``` __function to combine multiple lists when needed__"
   ]
  },
  {
   "cell_type": "code",
   "execution_count": 30,
   "metadata": {
    "ExecuteTime": {
     "end_time": "2020-03-04T20:43:04.813873Z",
     "start_time": "2020-03-04T20:43:04.803871Z"
    }
   },
   "outputs": [
    {
     "name": "stdout",
     "output_type": "stream",
     "text": [
      "Ivan's last name is Chen\n",
      "Vikranth's last name is Ranga\n",
      "Alyssa's last name is Spitzer\n"
     ]
    }
   ],
   "source": [
    "first_names = ['Ivan', 'Vikranth', 'Alyssa']\n",
    "last_names = ['Chen', 'Ranga', 'Spitzer']\n",
    "\n",
    "# unpacking zip data into two variables\n",
    "for first_name, last_name in zip(first_names, last_names):\n",
    "    print(f'{first_name}\\'s last name is {last_name}')"
   ]
  },
  {
   "cell_type": "markdown",
   "metadata": {},
   "source": [
    "* __Use context manager to control resource behavior and garbage collection__"
   ]
  },
  {
   "cell_type": "code",
   "execution_count": 27,
   "metadata": {
    "ExecuteTime": {
     "end_time": "2020-03-04T20:34:55.357270Z",
     "start_time": "2020-03-04T20:34:55.347269Z"
    }
   },
   "outputs": [
    {
     "name": "stdout",
     "output_type": "stream",
     "text": [
      "['This', 'is', 'a', 'test', 'file', 'and', 'it', 'contains', 'some', 'simple', 'text.']\n",
      "11\n"
     ]
    }
   ],
   "source": [
    "with open('test.txt', 'r') as f:\n",
    "    file_content = f.read()\n",
    "\n",
    "words = file_content.split(\" \")\n",
    "words_count = len(words)\n",
    "print(words)\n",
    "print(words_count)"
   ]
  },
  {
   "cell_type": "markdown",
   "metadata": {},
   "source": [
    "* __Use string/list/tuple/dictionary comprehension to simplify codes__"
   ]
  },
  {
   "cell_type": "code",
   "execution_count": 1,
   "metadata": {
    "ExecuteTime": {
     "end_time": "2020-03-06T19:34:32.629075Z",
     "start_time": "2020-03-06T19:34:32.596030Z"
    },
    "scrolled": true
   },
   "outputs": [
    {
     "name": "stdout",
     "output_type": "stream",
     "text": [
      "[6, 8]\n"
     ]
    }
   ],
   "source": [
    "print([x*2 for x in range(5) if x > 2])\n",
    "\n",
    "# avoid the following codes\n",
    "for x in range(5):\n",
    "    if x > 2:\n",
    "        x*2\n",
    "    else:\n",
    "        pass"
   ]
  },
  {
   "cell_type": "markdown",
   "metadata": {},
   "source": [
    "* __Use simple condition statement to avoid unnecessary complexity__"
   ]
  },
  {
   "cell_type": "code",
   "execution_count": 5,
   "metadata": {
    "ExecuteTime": {
     "end_time": "2020-03-04T19:39:45.720183Z",
     "start_time": "2020-03-04T19:39:45.711179Z"
    }
   },
   "outputs": [
    {
     "name": "stdout",
     "output_type": "stream",
     "text": [
      "1\n"
     ]
    }
   ],
   "source": [
    "# Traditional approach\n",
    "condition = True\n",
    "if condition:\n",
    "    x = 1\n",
    "else:\n",
    "    x = 0\n",
    "print(x)"
   ]
  },
  {
   "cell_type": "code",
   "execution_count": 6,
   "metadata": {
    "ExecuteTime": {
     "end_time": "2020-03-04T19:40:20.697928Z",
     "start_time": "2020-03-04T19:40:20.689927Z"
    }
   },
   "outputs": [
    {
     "name": "stdout",
     "output_type": "stream",
     "text": [
      "1\n"
     ]
    }
   ],
   "source": [
    "# Simplified/Pythonic approach\n",
    "condition = True\n",
    "x = 1 if condition else 0\n",
    "print(x)"
   ]
  },
  {
   "cell_type": "markdown",
   "metadata": {},
   "source": [
    "# Version Control with Git"
   ]
  },
  {
   "cell_type": "markdown",
   "metadata": {},
   "source": [
    "## Standards"
   ]
  },
  {
   "cell_type": "markdown",
   "metadata": {},
   "source": [
    "The git repository of a data science model or project should contains at least following key components\n",
    "* __README.md markdown file__ to describe the model or project with following information:\n",
    " * Name of the model or project\n",
    " * The use cases, business scenario or purposes of creating this model or project\n",
    " * The prerequisites or assumptions of the model or project\n",
    " * The usage of the model or project\n",
    " * The constrains or limitations of the model or project\n",
    " * The deployment procedure, instruction and/or any notes \n",
    "* __requirements.txt text file__ to list all required python libraries that have been used in the model or project\n",
    "* __datasets folder__ to contain all the information about the data required by the model or project. They include:\n",
    " * SQL query files (with file extension name of .sql)\n",
    " * data sets for experiments (e.g. csv, parquet or Excel files)\n",
    "* __notebooks folder__ to contain all the jupyter notebooks that have been created for experimental and/or demo purposes\n",
    "* __src folder__ to contain all the source codes, including any Python codes (.py files), Shell codes (.sh files), Scala codes (.scala files) and etc.\n",
    "* __releases folder__ to contain the final (trained) models that can be deployed to the production environment and and deployment scripts that can be used to help/automate the deployment processes"
   ]
  },
  {
   "cell_type": "markdown",
   "metadata": {},
   "source": [
    "![git_repo_demo](./git_repo_demo.png)"
   ]
  },
  {
   "cell_type": "markdown",
   "metadata": {},
   "source": [
    "__Git Large File Storage (Git LFS)__\n",
    "\n",
    "Git LFS (Large File Storage) is a Git extension developed by Atlassian, GitHub, and a few other open source contributors, that reduces the impact of large files in your repository by downloading the relevant versions of them lazily.\n",
    "\n",
    "Git LFS is seamless: in your working copy you'll only see your actual file content. This means you can use Git LFS without changing your existing Git workflow; you simply git checkout, edit, git add, and git commit as normal. git clone and git pull operations will be significantly faster as you only download the versions of large files referenced by commits that you actually check out, rather than every version of the file that ever existed.\n",
    "\n",
    "For the details about how to use Git LFS on BitBucket and GitHub, please refer to the link [here](https://www.atlassian.com/git/tutorials/git-lfs) and [here](https://git-lfs.github.com/)"
   ]
  },
  {
   "cell_type": "markdown",
   "metadata": {},
   "source": [
    "## Best Practices"
   ]
  },
  {
   "cell_type": "markdown",
   "metadata": {},
   "source": [
    "* __Commit Related Changes__\n",
    "A commit should be a wrapper for related changes.\n",
    "\n",
    "* __Commit Often__\n",
    "Committing often keeps your commits small and, again, helps you commit only related changes.\n",
    "\n",
    "* __Don’t Commit Half-Done Work__\n",
    "You should only commit code when it’s completed. This doesn’t mean you have to complete a whole, large feature before committing. Quite the contrary: split the feature’s implementation into logical chunks and remember to commit early and often.\n",
    "\n",
    "* __Test Before You Commit__\n",
    "Resist the temptation to commit something that you “think” is completed. Test it thoroughly to make sure it really is completed and has no side effects (as far as one can tell).\n",
    "\n",
    "* __Write Good Commit Messages__\n",
    "Begin your message with a short summary of your changes (up to 50 characters as a guideline). Separate it from the following body by including a blank line. The body of your message should provide detailed answers to the following questions: What was the motivation for the change? How does it differ from the previous implementation?\n",
    "\n",
    "* __Version Control is not a Backup System__\n",
    "Having your files backed up on a remote server is a nice side effect of having a version control system. But you should not use your git repo like it was a backup system.\n",
    "\n",
    "* __Use Branches__\n",
    "Branching is one of Git’s most powerful features – and this is not by accident: quick and easy branching was a central requirement from day one. Branches are the perfect tool to help you avoid mixing up different lines of development. You should use branches extensively in your development workflows: for new features, bug fixes, experiments, ideas…"
   ]
  },
  {
   "cell_type": "markdown",
   "metadata": {},
   "source": [
    "# Productionalization"
   ]
  },
  {
   "cell_type": "markdown",
   "metadata": {},
   "source": [
    "## Best Practices\n",
    "\n",
    "If the data keeps evolving, you will need to update your datasets and retrain your model\n",
    "regularly. You should probably automate the whole process as much as possible. Here are a few\n",
    "things you can automate:\n",
    "* Collect fresh data regularly and label it (e.g., using human raters).\n",
    "* Write a script to train the model and fine-tune the hyperparameters automatically. This script could run automatically, for example every day or every week, depending on your needs.\n",
    "* Write another script that will evaluate both the new model and the previous model on the updated test set, and deploy the model to production if the performance has not decreased (if it did, make sure you investigate why).\n",
    "\n",
    "An interesting article written by Google engineers is to discuss some techniques for implementing and automating continuous integration (CI), continuous delivery (CD), and continuous training (CT) for machine learning (ML) systems. Its link can be found [here](https://cloud.google.com/solutions/machine-learning/mlops-continuous-delivery-and-automation-pipelines-in-machine-learning), which is marked as [Extra Reading - Machine Learning Ops](https://cloud.google.com/solutions/machine-learning/mlops-continuous-delivery-and-automation-pipelines-in-machine-learning).\n",
    "\n",
    "The following diagram shows the implementation of the ML pipeline using CI/CD, which has the characteristics of the automated ML pipelines setup plus the automated CI/CD routines.\n",
    "![MLOps](./mlops.png)\n",
    "\n",
    "The following diagram shows the stages of the ML CI/CD automation pipeline:\n",
    "![MLOps_Stages](./mlops_Stages.png)"
   ]
  },
  {
   "cell_type": "markdown",
   "metadata": {},
   "source": [
    "# Appendix"
   ]
  },
  {
   "cell_type": "markdown",
   "metadata": {},
   "source": [
    "## Caching Decorator ```lru_cache```"
   ]
  },
  {
   "cell_type": "code",
   "execution_count": 1,
   "metadata": {
    "ExecuteTime": {
     "end_time": "2020-03-05T14:37:16.836516Z",
     "start_time": "2020-03-05T14:35:59.127937Z"
    }
   },
   "outputs": [
    {
     "data": {
      "text/plain": [
       "Text(0.5, 0, 'samples')"
      ]
     },
     "execution_count": 1,
     "metadata": {},
     "output_type": "execute_result"
    },
    {
     "data": {
      "image/png": "[encoded data removed]",
      "text/plain": [
       "<Figure size 432x288 with 1 Axes>"
      ]
     },
     "metadata": {},
     "output_type": "display_data"
    }
   ],
   "source": [
    "from functools import lru_cache\n",
    "from datetime import datetime\n",
    "\n",
    "@lru_cache(maxsize=None)\n",
    "def fib_cache(n):\n",
    "    if n < 2:\n",
    "        return n\n",
    "    return fib_cache(n-1) + fib_cache(n-2)\n",
    "\n",
    "def fib_no_cache(n):\n",
    "    if n < 2:\n",
    "        return n\n",
    "    return fib_no_cache(n-1) + fib_no_cache(n-2)\n",
    "\n",
    "def timeit(func,samples):\n",
    "    start = datetime.now()\n",
    "    func(samples)\n",
    "    end = datetime.now()\n",
    "    return end-start\n",
    "\n",
    "UPPER = 40\n",
    "\n",
    "cached = []\n",
    "for i in range(0,UPPER):\n",
    "    cached.append(timeit(fib_cache,i))\n",
    "\n",
    "not_cached = []\n",
    "for i in range(0,UPPER):\n",
    "    not_cached.append(timeit(fib_no_cache,i))\n",
    "\n",
    "import pandas as pd\n",
    "import seaborn as sns\n",
    "\n",
    "_ = pd.DataFrame([cached,not_cached]).T\n",
    "_.columns = ['cached','not_cached']\n",
    "_ = _.applymap(lambda x: x.value/1000000000)\n",
    "\n",
    "sns.set()\n",
    "g = sns.lineplot(data=_)\n",
    "g.set_ylabel('time in seconds')\n",
    "g.set_xlabel('samples')"
   ]
  },
  {
   "cell_type": "markdown",
   "metadata": {},
   "source": [
    "## Machine Learning Categories\n",
    "![machine learning algorithm selection](./learningalgorithms.png)"
   ]
  }
 ],
 "metadata": {
  "kernelspec": {
   "display_name": "Python 3",
   "language": "python",
   "name": "python3"
  },
  "language_info": {
   "codemirror_mode": {
    "name": "ipython",
    "version": 3
   },
   "file_extension": ".py",
   "mimetype": "text/x-python",
   "name": "python",
   "nbconvert_exporter": "python",
   "pygments_lexer": "ipython3",
   "version": "3.7.6"
  },
  "nav_menu": {
   "height": "279px",
   "width": "309px"
  },
  "toc": {
   "base_numbering": 1,
   "nav_menu": {},
   "number_sections": true,
   "sideBar": true,
   "skip_h1_title": false,
   "title_cell": "Table of Contents",
   "title_sidebar": "Contents",
   "toc_cell": true,
   "toc_position": {
    "height": "calc(100% - 180px)",
    "left": "10px",
    "top": "150px",
    "width": "237.975px"
   },
   "toc_section_display": "block",
   "toc_window_display": true
  }
 },
 "nbformat": 4,
 "nbformat_minor": 1
}
